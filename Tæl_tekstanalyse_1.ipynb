{
 "cells": [
  {
   "cell_type": "markdown",
   "metadata": {},
   "source": [
    "# Tekstanalyse 1: Opdeling af tekster, plots og RegEx\n",
    "***\n",
    "***\n",
    "Keywords: `opdeling af tekster`, `plots`, `matplotlib`, `regular expressions`, `re`\n",
    "\n",
    "Nye Python-udtryk:  `del`, `yield`, `.count()`, `.plot()`, `.bar()`, `.figsave()`\n",
    "***\n",
    "***\n",
    "I det følgende fortsætter vi arbejdet med at tælle leksikalske enheder. Vi bygger videre på arbejdet med `data frames` og afprøver indledningsvis to forskellige strategier for opdeling af tekster i mindre enheder.\n",
    "\n",
    "Vi gennemgår endnu et komplet `work flow` fra de indledendende forberedelser til analyse og datavisualisering. \n",
    "\n",
    "Nogle af elementerne vil være repetition af elementer fra tidligere notebooks.\n",
    "\n",
    "Hvis der er kode sekvenser eller udtryk i ikke forstår, er det altid en god idé at bruge Google. Det kan give svar på det meste."
   ]
  },
  {
   "cell_type": "markdown",
   "metadata": {},
   "source": [
    "# 1. Forberedelse"
   ]
  },
  {
   "cell_type": "markdown",
   "metadata": {},
   "source": [
    "### Dependencies\n",
    "Som altid begynder vi med at importere de nødvendige `libraries`. Udover `os`, `Numpy` og `Pandas` skal vi også bruge pakkerne `re`, der lader os arbejde med *Regular Expressions* og `matplotlib`, der lader os lave plots og diagrammer.\n",
    "\n",
    "**Importer** pakken `re`. **Tilføj** selv koden i feltet nedenfor."
   ]
  },
  {
   "cell_type": "code",
   "execution_count": null,
   "metadata": {},
   "outputs": [],
   "source": [
    "import os                       # os tillader os bl.a. at finde filplaceringer på computeren\n",
    "import numpy as np              # Numpy leverer noget af matematikken, der ligger under Pandas \n",
    "import pandas as pd             # Pandas tillader os at importere, oprette og manipulere data frames\n",
    "import matplotlib.pyplot as plt # Importerer underbiblioteket pyplot fra pakken matplotlib"
   ]
  },
  {
   "cell_type": "code",
   "execution_count": null,
   "metadata": {},
   "outputs": [],
   "source": []
  },
  {
   "cell_type": "markdown",
   "metadata": {},
   "source": [
    "### Definition af pipelinefunktion\n",
    "Herefter definerer vi de funktioner, vi skal bruge. Vi genbruger pipeline-funktionen `rens_ord`.\n"
   ]
  },
  {
   "cell_type": "code",
   "execution_count": null,
   "metadata": {},
   "outputs": [],
   "source": [
    "def rens_ord(text_0):\n",
    "    text_1 = text_0.replace(\"\\n\",\" \")\n",
    "    text_2 = text_1.replace(\".\",\" \")\n",
    "    text_3 = text_2.replace(\",\",\" \")\n",
    "    text_4 = text_3.replace(\":\",\" \")\n",
    "    text_5 = text_4.replace(\"*\",\" \")\n",
    "    text_6 = text_5.replace(\"–\",\" \")\n",
    "    text_7 = text_6.replace(\"'\",\" \")\n",
    "    text_8 = text_7.replace(\"”\",\" \")\n",
    "    text_9 = text_8.replace(\"-\",\" \")\n",
    "    text_10 = text_9.replace(\";\",\" \")\n",
    "    text_ren = text_10.replace(\"?\",\" \")\n",
    "    text_lav = text_ren.lower()\n",
    "    text_token = text_lav.split()\n",
    "    return text_token"
   ]
  },
  {
   "cell_type": "markdown",
   "metadata": {},
   "source": [
    "Vi får desuden brug for en funktion, der tager en tekst (som én streng) som input og splitter den ved linjeskift.\n",
    "\n",
    "**Definér** selv funktionen. Den kan skrives med få linjer kode. Når I har defineret jeres egen funktion, kan I **sammenligne** med mit forslag, som I finder nederts i notebooken."
   ]
  },
  {
   "cell_type": "code",
   "execution_count": null,
   "metadata": {},
   "outputs": [],
   "source": []
  },
  {
   "cell_type": "markdown",
   "metadata": {},
   "source": [
    "### Import af tekster\n",
    "I denne notebook skal vi arbejde med *Kongens Fald*. **Bemærk** den forkotede form, hvor `.read()`-kommandoen er koblet  direkte på `.open()`-kommandoen. **Læs** kodesekvensen bagfra."
   ]
  },
  {
   "cell_type": "code",
   "execution_count": null,
   "metadata": {},
   "outputs": [],
   "source": [
    "kf_raw = open(\"Kongens_fald_prep.txt\",  encoding = \"utf8\").read()"
   ]
  },
  {
   "cell_type": "markdown",
   "metadata": {},
   "source": [
    "# 2. Opdeling af tekst: to forskellige strategier\n",
    "Vi har tidligere arbejdet med en såkaldt *bag of words* strategi, hvor hver tekst blot behandles som en lang liste med ord. Med denne tilgang kan vi tælle og beskrive den samlede tekst. Hvis vi har brug for at undersøge, hvordan tekster og narrativer **udvikler** sig over tid eller tekstforløb, vil det imidlertid ofte være nødvendigt, særligt med længere tekster, at opdele teksten i mindre enheder.\n",
    "\n",
    "I det følgende skal vi kigge på to forskellige strategier: a) opdel tekst i kapitler, b) opdel tekst i afmålte bidder."
   ]
  },
  {
   "cell_type": "markdown",
   "metadata": {},
   "source": [
    "## 2.a Opdeling af tekst i kaptler\n",
    "Opdeling i kapitler kan være en fin strategi, hvis man arbejder med en overskuelig tekstmængde, fx én eller nogle få romaner.\n",
    "\n",
    "Som forberedelse har jeg på forhånd indtastet **kapitel** umiddelbart før hver kapiteloverskrift i den rå `.txt`-fil, dvs. 42 gange i det aktuelle eksempel. Det er selvfølgelig en balance. Det vil være hurtigere end at kode det i Python, hvis der er tale om en overskuelige tekstmængde, men umuluigt, ved større tekstmængder.\n",
    "\n",
    "Vi kan nu **splitte** teksten i kapitler vha. `.split()`-kommandoen, ved simpelthen at bed om at få teksten delt, hver gang, der står 'kapitel'."
   ]
  },
  {
   "cell_type": "code",
   "execution_count": null,
   "metadata": {},
   "outputs": [],
   "source": [
    "kf_kap = kf_raw.split(\"kapitel\")"
   ]
  },
  {
   "cell_type": "markdown",
   "metadata": {},
   "source": [
    "**Hvilken** datatype er outputtet af `.split()`-funktionen? **Gæt** og **tjek** med `type()`."
   ]
  },
  {
   "cell_type": "code",
   "execution_count": null,
   "metadata": {},
   "outputs": [],
   "source": []
  },
  {
   "cell_type": "markdown",
   "metadata": {},
   "source": [
    "Vi kan se de første bidder af teksten, ved at indtaste `variabel`-navnet efterfulgt af en angivelse af, hvor stor en `slice`, vi vil se, fx `[0:3]`.\n",
    "\n",
    "**Hvor mange** elementer fra listen får vi at se?"
   ]
  },
  {
   "cell_type": "code",
   "execution_count": null,
   "metadata": {},
   "outputs": [],
   "source": [
    "kf_kap[0:3]"
   ]
  },
  {
   "cell_type": "markdown",
   "metadata": {},
   "source": [
    "Ved at inspicere outputtet, kan vi se, at første element på listen udgøres af **titel** og **forfatternavn**. Da vi kun skal bruge selve kapitlerne, skal vi have slettet dette element fra listen. Dette kan gøres med `del`-kommandoen.\n",
    "\n",
    "**Indtast** kodesekvensen `del kf_kap[0]` i kodefeltet nedenfor. Sekvensen læses: Slet elementet med index 0 (dvs element 1) fra listen gemt under variabelnavnet *kf_kap*. "
   ]
  },
  {
   "cell_type": "code",
   "execution_count": null,
   "metadata": {},
   "outputs": [],
   "source": []
  },
  {
   "cell_type": "markdown",
   "metadata": {},
   "source": [
    "### Lav en `data frame`\n",
    "Vi kan nu lave en `data frame` ud af kapitlerne på listen med følgende kommando:\n",
    "\n",
    "`df_kap = pd.DataFrame({\"Kapitel_raw\": kf_kap})`\n",
    "\n",
    "**Indtast** koden i feltet nedenfor. **Læs** kodesekvensen og **diskutér** hvad de forskellige dele betyder. **Hvad** betyder fx de de forskellige slags parenteser?"
   ]
  },
  {
   "cell_type": "code",
   "execution_count": null,
   "metadata": {},
   "outputs": [],
   "source": []
  },
  {
   "cell_type": "markdown",
   "metadata": {},
   "source": [
    "**Inspicér** data-framen med `df_kap.head()`-kommandoen."
   ]
  },
  {
   "cell_type": "code",
   "execution_count": null,
   "metadata": {},
   "outputs": [],
   "source": []
  },
  {
   "cell_type": "markdown",
   "metadata": {},
   "source": [
    "### Tilføj overskrifter\n",
    "Hvis vi printer den rå `.txt`-fil, der er hentet fra *Guthenberg Project*, kan vi se, at den er pænt opstillet, og at kapitel-overskrifterne står på en linje for sig selv. Dette kan vi udnytte, så vi **slipper for** at lave en håndskrevet liste, med alle 42 kapitel-overskrifter."
   ]
  },
  {
   "cell_type": "code",
   "execution_count": null,
   "metadata": {},
   "outputs": [],
   "source": [
    "print(kf_raw)"
   ]
  },
  {
   "cell_type": "markdown",
   "metadata": {},
   "source": [
    "For at få overskrifterne trukket ud skal vi gøre følgende:\n",
    "1. Splitte kapitlerne i linjer med den funktionen, vi definerede ovenfor.\n",
    "1. Snuppe den første linje (overskriften) i hvert kapitel\n",
    "1. Lave en liste med overskrifterne\n",
    "1. Rense overskriften for støj, fx ekstra blanktegn.\n",
    "1. Tilføje listen med de rensede overskrifter til dataframen."
   ]
  },
  {
   "cell_type": "markdown",
   "metadata": {},
   "source": [
    "Først anvender vi vores linje-split-funktion på kolonne 'Kapitel_raw' i vores data-frame **df_kap**. Dette kan gøres med en kodelinje.\n",
    "\n",
    "`df_kap[\"Linjer\"] = df_kap.Kapitel_raw.apply(split_linjer)`\n",
    "\n",
    "**Indtast** kodesekvensen i feltet nedenfor. **Læs** koden og **diskutér** hvad de enkelte dele betyder."
   ]
  },
  {
   "cell_type": "code",
   "execution_count": null,
   "metadata": {},
   "outputs": [],
   "source": []
  },
  {
   "cell_type": "markdown",
   "metadata": {},
   "source": [
    "Hvis vi **inspicerer** indholdet af kolonnen, fx de første ti rækker, kan vi nu se, at hver række inderholder en liste, hvoraf et af de første elementer er kapitlets overskrift."
   ]
  },
  {
   "cell_type": "code",
   "execution_count": null,
   "metadata": {},
   "outputs": [],
   "source": [
    "df_kap[\"Linjer\"][0:10]"
   ]
  },
  {
   "cell_type": "markdown",
   "metadata": {},
   "source": [
    "Vi kan dog også se, at der er kommet noget støj med i form at nogle tomme strenge (de tomme pladser mellem kommaerne). Støj kan opstå på forskellige måder, når forskellige tekst-formater konverteres til strenge og lister. Det er derfor, vi som regel sletter blanktegn, linjeskift osv. i forbindelse med pre-processing.\n",
    "\n",
    "Hvis vi inspicerer hele kolonnen, kan vi se, at vi er sikre på at få overskriften med, hvis vi snupper, de tre første elementer på hver liste.\n",
    "\n",
    "I kodesekvensen nedenfor laver vi først en tom liste. Herefter laver et `for loop`, der snupper de tre første elemnter fra hver række i kolonnen.\n",
    "\n",
    "**Læs** kodesekvensen, og **diskutér** hvad de forskellige elementer betyder."
   ]
  },
  {
   "cell_type": "code",
   "execution_count": null,
   "metadata": {},
   "outputs": [],
   "source": [
    "overskrifter_raw = []\n",
    "for x in df_kap[\"Linjer\"]:\n",
    "    overskrifter_raw.append(x[0:3])"
   ]
  },
  {
   "cell_type": "markdown",
   "metadata": {},
   "source": [
    "Ved at inspicere listeten **overskrifter_raw**, kan vi se, at vi nu har en liste af lister, og at alle listerne indholder tre elementer, nemlig overskriften samt nogle tomme *støjelementer* (' ')."
   ]
  },
  {
   "cell_type": "code",
   "execution_count": null,
   "metadata": {},
   "outputs": [],
   "source": [
    "overskrifter_raw"
   ]
  },
  {
   "cell_type": "markdown",
   "metadata": {},
   "source": [
    "Disse kan let fjernes. Vi laver en ny tom liste med navnet **overskrifter**, til hvilken vi med et `for loop` tilføjer alle de elementer fra listerne, der **ikke** (!=) er tomme.\n",
    "\n",
    "**Læs** kodesekvensen og **diskutér** hvad de enkelte dele betyder."
   ]
  },
  {
   "cell_type": "code",
   "execution_count": null,
   "metadata": {},
   "outputs": [],
   "source": [
    "overskrifter = []\n",
    "for x in overskrifter_raw:\n",
    "    for y in x:\n",
    "        if y != \"\":\n",
    "            overskrifter.append(y)"
   ]
  },
  {
   "cell_type": "markdown",
   "metadata": {},
   "source": [
    "**Inspicér** den nye liste og **tjek**, at den kun indeholder overskrifterne. "
   ]
  },
  {
   "cell_type": "code",
   "execution_count": null,
   "metadata": {},
   "outputs": [],
   "source": []
  },
  {
   "cell_type": "markdown",
   "metadata": {},
   "source": [
    "Nu mangler vi kun at tilføje den nye liste til vores `data frame`. Dette gøres med følgende sekvens:\n",
    "\n",
    "`df_kap.loc[:,\"Overskrift\"] = overskrifter`\n",
    "\n",
    "**Afprøv** sekvensen i feltet nedenfor og **diskutér**, hvad de enkelte dele betyder."
   ]
  },
  {
   "cell_type": "code",
   "execution_count": null,
   "metadata": {},
   "outputs": [],
   "source": []
  },
  {
   "cell_type": "markdown",
   "metadata": {},
   "source": [
    "Vi får desuden brug for en kolonne med de rensede kapitler. **Brug** kodesekvensen nedenfor:\n",
    "\n",
    "`df_kap.loc[:,\"Kapitel_ord\"] = df_kap.Kapitel_raw.apply(rens_ord)`\n",
    "\n",
    "\n",
    "**Inspicér** data-framen med `df_kap.head()`-kommandoen."
   ]
  },
  {
   "cell_type": "code",
   "execution_count": null,
   "metadata": {},
   "outputs": [],
   "source": []
  },
  {
   "cell_type": "markdown",
   "metadata": {},
   "source": [
    "Vi kan omarrangere kolonnerne med `.reindex()`-kommandoen."
   ]
  },
  {
   "cell_type": "code",
   "execution_count": null,
   "metadata": {},
   "outputs": [],
   "source": [
    "df_kap = df_kap.reindex(columns = ['Overskrift', 'Kapitel_ord','Kapitel_raw', 'Linjer'])\n",
    "df_kap.head()"
   ]
  },
  {
   "cell_type": "markdown",
   "metadata": {},
   "source": [
    "## 2.b Opdeling af tekst i afmålte bidder"
   ]
  },
  {
   "cell_type": "markdown",
   "metadata": {},
   "source": [
    "Hvis vi arbejder med store mængder af tekster, eller af andre grunde ønsker en anden inddeling end kapitler, er en god strategi, at inddele teksten en en række lige store bidder.\n",
    "\n",
    "I *Kongens fald* er der 42 kapitler. I det følgende forsøger vi med en mere finmasket inddeling af roman. Vi kan fx forsøge med en indeling i cirka halvt så store bidder. Vi kan let regne størrelsen ud på de enkelte bidder.\n",
    "\n",
    "Afprøv kode sekvensen i feltet nedenfor. **Læs** kodesekvensen og **diskutér** hvad de enkelte dele betyder. Hvad erdet de to tal, vi får som putput, måler?"
   ]
  },
  {
   "cell_type": "code",
   "execution_count": null,
   "metadata": {},
   "outputs": [],
   "source": [
    "kf_ord = rens_ord(kf_raw)\n",
    "print(len(kf_ord))\n",
    "print(len(kf_ord)/80)"
   ]
  },
  {
   "cell_type": "markdown",
   "metadata": {},
   "source": [
    "Vi kan nu lave funktioner, der inddeler teksten i afmålte bidder. Funktionen tager som **input** en **ordliste** og en angivelse af **antallet** ord per bid. Vi bruger `yield`-kommandoen i dette tilfælde, fordi den i modsætning `return`-kommandoen, kan give os mere end ét output. Her spytter den en tekstbidder på 900 ord ud, indtil der ikke er flere ord tilbage i input-teksten.\n",
    "\n",
    "**Afprøv** eksemplet nedenfor og **diskutér** hvad de forskellige dele betyder."
   ]
  },
  {
   "cell_type": "code",
   "execution_count": null,
   "metadata": {},
   "outputs": [],
   "source": [
    "def opdel_txt(txt, bite_size):\n",
    "    for i in range(0, len(txt), bite_size):\n",
    "        yield txt[i:i + bite_size]"
   ]
  },
  {
   "cell_type": "markdown",
   "metadata": {},
   "source": [
    "Herefter **anvender** vi funktionen og **tilføjer** outputtet til en liste.\n",
    "\n",
    "**Afprøv** eksemplet nedenfor og **diskutér** hvad de forskellige dele betyder."
   ]
  },
  {
   "cell_type": "code",
   "execution_count": null,
   "metadata": {},
   "outputs": [],
   "source": [
    "kf_opdelt = list(opdel_txt(kf_ord, 900))"
   ]
  },
  {
   "cell_type": "markdown",
   "metadata": {},
   "source": [
    "Herefter laver vi en ny `data frame` ud af listen med tekstbidder.\n",
    "\n",
    "**Afprøv** eksemplet nedenfor og **diskutér** hvad de forskellige dele betyder."
   ]
  },
  {
   "cell_type": "code",
   "execution_count": null,
   "metadata": {},
   "outputs": [],
   "source": [
    "df_del = pd.DataFrame({\"Txt_del\":kf_opdelt})\n",
    "df_del"
   ]
  },
  {
   "cell_type": "markdown",
   "metadata": {},
   "source": [
    "# 3. Ordfrekvens"
   ]
  },
  {
   "cell_type": "markdown",
   "metadata": {},
   "source": [
    "## 3.a Ordfrekvens i kapitler"
   ]
  },
  {
   "cell_type": "markdown",
   "metadata": {},
   "source": [
    "Vi har nu vores to `data frames` klar og kan begynde at tælle. I det følgende skal vi forsøge at skabe **overblik** over, hvor i romanen, de forskellige karakterer optræder.\n",
    "\n",
    "Vi **definerer** først en funktion, der som **argument** tager den tekstbid vi vil søge i, og den `string` vi vil søge efter."
   ]
  },
  {
   "cell_type": "code",
   "execution_count": null,
   "metadata": {},
   "outputs": [],
   "source": [
    "def find_navn(txt,navn):\n",
    "    antal = txt.count(navn)\n",
    "    return antal"
   ]
  },
  {
   "cell_type": "markdown",
   "metadata": {},
   "source": [
    "I kodesekvensen nedenfor afprøver vi funktionen på vores `data frame` og søger efter strengen **'mikkel'**. Bemærk den særlige notation `args=('mikkel',)`. Dette er nødvendigt, når vi anvender funktionen inden i `apply()`. **Husk** kommaet efter søgestrengen, det skal med selvom der kun er ét ekstra argument.\n",
    "\n",
    "**Afprøv** kodesekvensen og **diskutér** hvad de enkelte dele betyder."
   ]
  },
  {
   "cell_type": "code",
   "execution_count": null,
   "metadata": {},
   "outputs": [],
   "source": [
    "df_kap[\"antalMikkel\"]  = df_kap.Kapitel_ord.apply(find_navn, args=('mikkel',))"
   ]
  },
  {
   "cell_type": "markdown",
   "metadata": {},
   "source": [
    "**Inspicér** data-framen med `.head()`-kommandoen og tjek, at alt ser rigtigt ud."
   ]
  },
  {
   "cell_type": "code",
   "execution_count": null,
   "metadata": {},
   "outputs": [],
   "source": []
  },
  {
   "cell_type": "markdown",
   "metadata": {},
   "source": [
    "Herefter kan vi gøre det samme for de andre personer vi er interesserede i:"
   ]
  },
  {
   "cell_type": "code",
   "execution_count": null,
   "metadata": {},
   "outputs": [],
   "source": [
    "df_kap[\"antalChristiern\"]  = df_kap.Kapitel_ord.apply(find_navn, args=('christiern',))\n",
    "df_kap[\"antalKongen\"]  = df_kap.Kapitel_ord.apply(find_navn, args=('kongen',))\n",
    "df_kap[\"antalOtte\"]  = df_kap.Kapitel_ord.apply(find_navn, args=('otte',))\n",
    "df_kap[\"antalSusanna\"]  = df_kap.Kapitel_ord.apply(find_navn, args=('susanna',))\n",
    "df_kap[\"antalMette\"]  = df_kap.Kapitel_ord.apply(find_navn, args=('mette',))\n",
    "df_kap[\"antalInger\"]  = df_kap.Kapitel_ord.apply(find_navn, args=('inger',))\n",
    "df_kap[\"antalAxel\"]  = df_kap.Kapitel_ord.apply(find_navn, args=('axel',))\n",
    "df_kap[\"antalIde\"]  = df_kap.Kapitel_ord.apply(find_navn, args=('ide',))\n",
    "df_kap[\"antalChristiern\"]  = df_kap.Kapitel_ord.apply(find_navn, args=('christiern',))"
   ]
  },
  {
   "cell_type": "markdown",
   "metadata": {},
   "source": [
    "Da 'kongen' og 'christiern' refererer til samme person, kan vi vælge at **lægge de to kolonner sammen**, så vi får en kolonne med det samlede antal gange Kong Christiern optræder i teksten.\n",
    "\n",
    "**Afprøv** kodesekvensen nedenfor og **diskutér** hvad de forskellige dele betyder."
   ]
  },
  {
   "cell_type": "code",
   "execution_count": null,
   "metadata": {},
   "outputs": [],
   "source": [
    "df_kap[\"antalKongChr\"] = df_kap[\"antalChristiern\"] + df_kap[\"antalKongen\"]"
   ]
  },
  {
   "cell_type": "markdown",
   "metadata": {},
   "source": [
    "**Inspicér** data-framen med `.head()`-kommandoen og tjek, at alt ser rigtigt ud."
   ]
  },
  {
   "cell_type": "code",
   "execution_count": null,
   "metadata": {},
   "outputs": [],
   "source": []
  },
  {
   "cell_type": "markdown",
   "metadata": {},
   "source": [
    "## 3.b Ordfrekvens i bidder\n",
    "Vi kan nu let gentage disse operationer på dataframen **df_del**, der indeholder teksten inddelt i mindre bidder.\n",
    "\n",
    "**Anvend** funktionen `find_navn` på romanens hovedpersoner (se navnene ovenfor) og tilføj optællingerne til dataframen.\n",
    "\n",
    "Når I har **prøvet selv** kan I sammenligne med mit **løsningsforslag**, som I finder i bunden af notebooken."
   ]
  },
  {
   "cell_type": "code",
   "execution_count": null,
   "metadata": {},
   "outputs": [],
   "source": []
  },
  {
   "cell_type": "markdown",
   "metadata": {},
   "source": [
    "# 4. Line plot og bar plot"
   ]
  },
  {
   "cell_type": "markdown",
   "metadata": {},
   "source": [
    "Vi har nu to datasæt med en masse data, og det kan være vanskeligt at se ud af tallene i kolonnerne, hvor og hvor meget personerne optræder i teksten. Det er derfor ofte en god idé at **plotte** sine data, for visualiseringer, fx linje- eller søjle diagrammer, ofte giver et godt overblik.\n",
    "\n",
    "Pakken `matplotlib`, som vi importerede indledningsvis, gør det nemt at plotte data fra en `data frame`. I det følgende skal vi afprøve kommandoerne `.plot()` og `.bar()`. \n",
    "\n",
    "Koden er relativt let at læse. \n",
    "\n",
    "**Afprøv** eksemplerne nedenfor. **Gennemgå** hele sekvensen og **diskutér**, hvad **alle** delene betyder."
   ]
  },
  {
   "cell_type": "markdown",
   "metadata": {},
   "source": [
    "## 4.a Plot kapitler"
   ]
  },
  {
   "cell_type": "markdown",
   "metadata": {},
   "source": [
    "Vi lægger ud med at plotte indholdet af data-framen `df_kap`, der indeholder teksten inddelt i kapitler.\n",
    "\n",
    "#### Linjediagram"
   ]
  },
  {
   "cell_type": "code",
   "execution_count": null,
   "metadata": {},
   "outputs": [],
   "source": [
    "plt.figure(figsize=(25,5))\n",
    "\n",
    "plt.title(\"Persongalleri\")\n",
    "\n",
    "plt.plot(df_kap.Overskrift,df_kap.antalMikkel, label=\"Mikkel\")\n",
    "plt.plot(df_kap.Overskrift,df_kap.antalOtte, label=\"Otte\")\n",
    "plt.plot(df_kap.Overskrift,df_kap.antalSusanna, label=\"Susanna\")\n",
    "plt.plot(df_kap.Overskrift,df_kap.antalMette, label=\"Ane Mette\")\n",
    "plt.plot(df_kap.Overskrift,df_kap.antalInger, label=\"Inger\")\n",
    "plt.plot(df_kap.Overskrift,df_kap.antalAxel, label=\"Axel\")\n",
    "plt.plot(df_kap.Overskrift,df_kap.antalIde, label=\"Ide\")\n",
    "plt.plot(df_kap.Overskrift,df_kap.antalKongChr, label=\"Kong Christiern\")\n",
    "\n",
    "plt.ylabel(\"Antal gange nævnt\")\n",
    "plt.xlabel(\"Placering i narrativ\")\n",
    "plt.xticks(rotation=70) # Vrider kapitelnavnene, så de kan være på nederste linje. Prøv at fjene denne linje.\n",
    "\n",
    "plt.legend()\n",
    "plt.savefig(\"kf_kap_linjer.jpg\", bbox_inches = \"tight\", dpi=200) # Argumentet 'tight' sikrer at hele billedet gemmes. Man kan ellers af og til risikere, at kanterne beskæres, så fx teksten i bunden ikke kommer med.\n",
    "plt.show()"
   ]
  },
  {
   "cell_type": "markdown",
   "metadata": {},
   "source": [
    "#### Søjlediagram\n",
    "**Samme** data, **nyt** diagram"
   ]
  },
  {
   "cell_type": "code",
   "execution_count": null,
   "metadata": {},
   "outputs": [],
   "source": [
    "plt.figure(figsize=(25,5))\n",
    "\n",
    "plt.title(\"Persongalleri\")\n",
    "\n",
    "plt.bar(df_kap.Overskrift,df_kap.antalMikkel, label=\"Mikkel\")\n",
    "plt.bar(df_kap.Overskrift,df_kap.antalOtte, label=\"Otte\")\n",
    "plt.bar(df_kap.Overskrift,df_kap.antalSusanna, label=\"Susanna\")\n",
    "plt.bar(df_kap.Overskrift,df_kap.antalMette, label=\"Ane Mette\")\n",
    "plt.bar(df_kap.Overskrift,df_kap.antalInger, label=\"Inger\")\n",
    "plt.bar(df_kap.Overskrift,df_kap.antalAxel, label=\"Axel\")\n",
    "plt.bar(df_kap.Overskrift,df_kap.antalIde, label=\"Ide\")\n",
    "plt.bar(df_kap.Overskrift,df_kap.antalKongChr, label=\"Kong Christiern\")\n",
    "\n",
    "plt.ylabel(\"Antal gange nævnt\")\n",
    "plt.xlabel(\"Placering i narrativ\")\n",
    "plt.xticks(rotation=70)\n",
    "\n",
    "plt.legend()\n",
    "plt.savefig(\"kf_kap_stolpe.png\", bbox_inches = \"tight\", dpi=200)\n",
    "plt.show()"
   ]
  },
  {
   "cell_type": "markdown",
   "metadata": {},
   "source": [
    "## 4.b Plot bidder"
   ]
  },
  {
   "cell_type": "markdown",
   "metadata": {},
   "source": [
    "Vi kan nu let plotte dataframen **df_del**, der indeholder teksten inddelt i mindre bidder.\n",
    "\n",
    "**Anvend** samme fremgangsmåde som ovenfor og lav et **linjediagram** og et **søjlediagram** med indholdet af kolonnerne i **df_del**.\n",
    "\n",
    "Når I har **prøvet selv** kan I sammenligne med mit **løsningsforslag**, som I finder i bunden af notebooken."
   ]
  },
  {
   "cell_type": "code",
   "execution_count": null,
   "metadata": {},
   "outputs": [],
   "source": []
  },
  {
   "cell_type": "code",
   "execution_count": null,
   "metadata": {},
   "outputs": [],
   "source": []
  },
  {
   "cell_type": "markdown",
   "metadata": {},
   "source": [
    "# 5. Regular Expressions\n",
    "Med `regular expressions` er det let at matche og finde leksikalske elementer i en tekst.\n",
    "\n",
    "Hvis I følger linket, kan I se en oversigt og de forskellige RegEx-koder:\n",
    "\n",
    "https://cheatography.com//davechild/cheat-sheets/regular-expressions/pdf/\n",
    "\n",
    "Som tekst eksempel skal vi bruge en mail. \n",
    "\n",
    "I kodesekvensen nedenfor indlæses teksteksemplet."
   ]
  },
  {
   "cell_type": "code",
   "execution_count": null,
   "metadata": {},
   "outputs": [],
   "source": [
    "mail_raw = 'Ulf Dalvad Berthelsen - udb@cc.au.dk <do-not-reply@blackboard.au.dk>\\n\\nF21 - Aktuelt forskningsemne:Tæl din tekst: Introduktion til digital tekstanalyse og digital humaniora - Hold - AARHUS[131202U008]: Zoom-link\\nUlf Dalvad Berthelsen is inviting you to a scheduled Zoom meeting.\\n\\nTopic: F21 - Aktuelt forskningsemne:Tæl din tekst: Introduktion til digital tekstanalyse og digital humaniora - Hold - AARHUS[131202U008]\\nTime: Apr 12, 2021 11:00 AM Copenhagen\\n\\nJoin Zoom Meeting\\nhttps://aarhusuniversity.zoom.us/x/xx661596501\\n\\nMeeting ID: 661 5965 0118\\n\\nJoin by SIP\\n66159650118@109.105.112.2xx\\n66159650118@109.105.112.2xx\\n\\nJoin by H.323\\n109.105.112.2xx\\n109.105.112.2xx\\nMeeting ID: 661 5965 0118\\n'\n",
    "print(mail_raw)"
   ]
  },
  {
   "cell_type": "markdown",
   "metadata": {},
   "source": [
    "Herefter **splitter** vi mail-eksemplet til en ordliste:"
   ]
  },
  {
   "cell_type": "code",
   "execution_count": null,
   "metadata": {},
   "outputs": [],
   "source": [
    "mail = mail_raw.split(' ')"
   ]
  },
  {
   "cell_type": "markdown",
   "metadata": {},
   "source": [
    "Det kan ofte være smart at bruge `list comprehension`, som vi kiggede på sidst, når vi arbejder med `RegEx`. På denne måde generes en liste med resultatet af søgningen.\n",
    "\n",
    "Eksemplet nedenfor kan **læses** (bagfra); Hvis et ord (w) fra listen `mail` matcher RegEx-søgestrengen, skal w tilføjes listen. Gem listen under navnvet `ordliste_mail`"
   ]
  },
  {
   "cell_type": "code",
   "execution_count": null,
   "metadata": {},
   "outputs": [],
   "source": [
    "ordliste_mail = [w for w in mail if re.search(r'.+@', w)]\n",
    "print(ordliste_mail)"
   ]
  },
  {
   "cell_type": "markdown",
   "metadata": {},
   "source": [
    "Forsøg at **rafinere** søgningen, så resultatet bliver mere præcist."
   ]
  },
  {
   "cell_type": "code",
   "execution_count": null,
   "metadata": {},
   "outputs": [],
   "source": []
  },
  {
   "cell_type": "markdown",
   "metadata": {},
   "source": [
    "**Lav** selv **3** eksempler på `RegEx`-søgestrenge, der så **præcist som muligt** matcher strenge i mailen."
   ]
  },
  {
   "cell_type": "code",
   "execution_count": null,
   "metadata": {},
   "outputs": [],
   "source": []
  },
  {
   "cell_type": "code",
   "execution_count": null,
   "metadata": {},
   "outputs": [],
   "source": []
  },
  {
   "cell_type": "code",
   "execution_count": null,
   "metadata": {},
   "outputs": [],
   "source": []
  },
  {
   "cell_type": "markdown",
   "metadata": {},
   "source": [
    "### Søg i hele teksten"
   ]
  },
  {
   "cell_type": "markdown",
   "metadata": {},
   "source": [
    "`Regular Expressions` i kombinationen med `list comprehension` er også en effektiv måde at gennemsøge store tekstmængder - også selvom søgestrengen ikke er kompliceret. \n",
    "\n",
    "Nedenfor finder i nogle forskellige eksempler. **Afsprøv** kodesekvenserne og **diskutér** hvad de enkelte dele betyder."
   ]
  },
  {
   "cell_type": "markdown",
   "metadata": {},
   "source": [
    "### Eksempel 1"
   ]
  },
  {
   "cell_type": "code",
   "execution_count": null,
   "metadata": {},
   "outputs": [],
   "source": [
    "kf_ordliste = rens_ord(kf_raw)\n",
    "eksempel_1 = [w for w in kf_ordliste if re.search('mikkel', w)]\n",
    "len(eksempel_1)"
   ]
  },
  {
   "cell_type": "markdown",
   "metadata": {},
   "source": [
    "### Eksempel 2"
   ]
  },
  {
   "cell_type": "code",
   "execution_count": null,
   "metadata": {},
   "outputs": [],
   "source": [
    "kf_ordliste = rens_ord(kf_raw)\n",
    "eksempel_2 = [w for w in kf_ordliste if re.search('død', w)]\n",
    "print(eksempel_2)"
   ]
  },
  {
   "cell_type": "markdown",
   "metadata": {},
   "source": [
    "### Eksempel 3"
   ]
  },
  {
   "cell_type": "code",
   "execution_count": null,
   "metadata": {},
   "outputs": [],
   "source": [
    "kf_ordliste = rens_ord(kf_raw)\n",
    "eksempel_3 = [w for w in kf_ordliste if re.search('^liv', w)]\n",
    "print(len(eksempel_3))\n",
    "print(eksempel_3)"
   ]
  },
  {
   "cell_type": "markdown",
   "metadata": {},
   "source": [
    "### Eksempel_4"
   ]
  },
  {
   "cell_type": "code",
   "execution_count": null,
   "metadata": {},
   "outputs": [],
   "source": [
    "kf_ordliste = rens_ord(kf_raw)\n",
    "eksempel_4 = [w for w in kf_ordliste if re.search('ede$', w)]\n",
    "set(eksempel_4)"
   ]
  },
  {
   "cell_type": "markdown",
   "metadata": {},
   "source": [
    "## Søg i dataframen\n",
    "Vi kan også bruge `RegEx` til at søge i vores data-frames.\n",
    "\n",
    "I eksemplerne nedenfor er brugt nogle af de kommandoer vi har gennemgået ovenfor.\n",
    "\n",
    "**Afprøv** kodesekvenserne og **diskutér**, hvad **alle** delene betyder:"
   ]
  },
  {
   "cell_type": "markdown",
   "metadata": {},
   "source": [
    "#### Funktion"
   ]
  },
  {
   "cell_type": "code",
   "execution_count": null,
   "metadata": {},
   "outputs": [],
   "source": [
    "def reg_ex_søg(txt, søgestreng):\n",
    "    x = [1 for w in txt if re.search(søgestreng, w)]\n",
    "    return sum(x)"
   ]
  },
  {
   "cell_type": "markdown",
   "metadata": {},
   "source": [
    "#### RegEx-søgning og kolonner"
   ]
  },
  {
   "cell_type": "code",
   "execution_count": null,
   "metadata": {},
   "outputs": [],
   "source": [
    "df_kap[\"antalDød\"]  = df_kap.Kapitel_ord.apply(reg_ex_søg,args=('død',))\n",
    "df_kap[\"antalLiv\"]  = df_kap.Kapitel_ord.apply(reg_ex_søg,args=('liv',))\n",
    "df_kap.head()"
   ]
  },
  {
   "cell_type": "markdown",
   "metadata": {},
   "source": [
    "#### Plot"
   ]
  },
  {
   "cell_type": "code",
   "execution_count": null,
   "metadata": {},
   "outputs": [],
   "source": [
    "plt.figure(figsize=(25,5))\n",
    "\n",
    "plt.title(\"Mikkel\")\n",
    "\n",
    "plt.plot(df_kap.Overskrift,df_kap.antalMikkel, label=\"Mikkel\")\n",
    "plt.plot(df_kap.Overskrift,df_kap.antalDød, label=\"Død\")\n",
    "plt.plot(df_kap.Overskrift,df_kap.antalLiv, label=\"Liv\")\n",
    "\n",
    "plt.ylabel(\"Antal gange nævnt\")\n",
    "plt.xlabel(\"Placering i narrativ\")\n",
    "plt.xticks(rotation=70)\n",
    "\n",
    "plt.legend()\n",
    "plt.savefig(\"kf_kap_mikkel.png\", bbox_inches = \"tight\", dpi=200)\n",
    "plt.show()"
   ]
  },
  {
   "cell_type": "markdown",
   "metadata": {},
   "source": [
    "# Litterær fortolkning\n",
    "***\n",
    "**Hvad** fortæller vores linjediagrammer om Teksten? **Hvordan** kan de understøtte vores **kvalitative** analyse af romanen?\n",
    "\n",
    "**Hvad** fortæller diagrammet over personernes optræden i kapitlerne om **romanens struktur**?\n",
    "\n",
    "**Hvad** fortæller diagrammet over Mikkels relation til ordene 'liv' og 'død' os om bearbejdelsen af **tematikkerne** i romanen?\n",
    "\n",
    "Find **selv** på **flere spørgsmål**!\n",
    "***"
   ]
  },
  {
   "cell_type": "markdown",
   "metadata": {},
   "source": [
    "# 6. Gem data frame som csv-fil\n",
    "For at gemme data-framen som csv-fil skal i bruge følgende kommando. Filnavnet er naturligvis valgfrit:\n",
    "\n",
    "`df_kap.to_csv('KongensFald_kap_Personer.csv', index=False)`<br>\n",
    "`df_del.to_csv('KongensFald_dele_Personer.csv', index=False)`\n",
    "\n",
    "Tilføjelsen `index=False` sikrer, at data-framen ikke gemmes med det automatisk generede index (første kolonne: 0, 1, 2, osv.). Der genereres som default et nyt index, hver gang data-framen åbnes, og vi ville derfor have først to, så tre indekser osv., hvis vi gemmer indekse hver gang.\n",
    "\n",
    "Filen gemmes som default i den fil-mappe, hvori scriptet er gemt.\n",
    "\n",
    "**Gem** de to data-frames."
   ]
  },
  {
   "cell_type": "code",
   "execution_count": null,
   "metadata": {},
   "outputs": [],
   "source": []
  },
  {
   "cell_type": "markdown",
   "metadata": {},
   "source": [
    "# Løsningsforslag: Funktion der splitter ved linjeskift"
   ]
  },
  {
   "cell_type": "code",
   "execution_count": null,
   "metadata": {},
   "outputs": [],
   "source": [
    "def split_linjer(text_0):\n",
    "    text_linjer = text_0.split(\"\\n\")\n",
    "    return text_linjer"
   ]
  },
  {
   "cell_type": "markdown",
   "metadata": {},
   "source": [
    "# Løsningsforslag: Optælling vha. `find_navn()`"
   ]
  },
  {
   "cell_type": "code",
   "execution_count": null,
   "metadata": {},
   "outputs": [],
   "source": [
    "df_del[\"antalKongen\"]  = df_del.Txt_del.apply(find_navn, args=('kongen',))\n",
    "df_del[\"antalMikkel\"]  = df_del.Txt_del.apply(find_navn, args=('mikkel',))\n",
    "df_del[\"antalOtte\"]  = df_del.Txt_del.apply(find_navn, args=('otte',))\n",
    "df_del[\"antalSusanna\"]  = df_del.Txt_del.apply(find_navn, args=('susanna',))\n",
    "df_del[\"antalMette\"]  = df_del.Txt_del.apply(find_navn, args=('mette',))\n",
    "df_del[\"antalInger\"]  = df_del.Txt_del.apply(find_navn, args=('inger',))\n",
    "df_del[\"antalAxel\"]  = df_del.Txt_del.apply(find_navn, args=('axel',))\n",
    "df_del[\"antalIde\"]  = df_del.Txt_del.apply(find_navn, args=('ide',))\n",
    "df_del[\"antalChristiern\"]  = df_del.Txt_del.apply(find_navn, args=('christiern',))\n",
    "\n",
    "df_del[\"antalKongChr\"] = df_del[\"antalChristiern\"] + df_del[\"antalKongen\"]\n",
    "\n",
    "df_del.head()"
   ]
  },
  {
   "cell_type": "markdown",
   "metadata": {},
   "source": [
    "# Løsningsforslag: linjediagram af `df_del`"
   ]
  },
  {
   "cell_type": "code",
   "execution_count": null,
   "metadata": {},
   "outputs": [],
   "source": [
    "plt.figure(figsize=(25,5))\n",
    "\n",
    "plt.title(\"Persongalleri\")\n",
    "\n",
    "plt.plot(df_del.index,df_del.antalMikkel, label=\"Mikkel\")\n",
    "plt.plot(df_del.index,df_del.antalOtte, label=\"Otte\")\n",
    "plt.plot(df_del.index,df_del.antalSusanna, label=\"Susanna\")\n",
    "plt.plot(df_del.index,df_del.antalMette, label=\"Ane Mette\")\n",
    "plt.plot(df_del.index,df_del.antalInger, label=\"Inger\")\n",
    "plt.plot(df_del.index,df_del.antalAxel, label=\"Axel\")\n",
    "plt.plot(df_del.index,df_del.antalIde, label=\"Ide\")\n",
    "plt.plot(df_del.index,df_del.antalKongChr, label=\"Kong Christiern\")\n",
    "\n",
    "plt.ylabel(\"Antal gange nævnt\")\n",
    "plt.xlabel(\"Placering i narrativ\")\n",
    "\n",
    "plt.legend()\n",
    "plt.savefig(\"kf_dele_stolpe.pdf\", bbox_inches = \"tight\", dpi=200)\n",
    "plt.show()"
   ]
  },
  {
   "cell_type": "markdown",
   "metadata": {},
   "source": [
    "# Løsningsforslag: søjlediagram af `df_del`"
   ]
  },
  {
   "cell_type": "code",
   "execution_count": null,
   "metadata": {},
   "outputs": [],
   "source": [
    "plt.figure(figsize=(25,10))\n",
    "\n",
    "plt.title(\"Persongalleri\")\n",
    "\n",
    "plt.bar(df_del.index,df_del.antalMikkel, label=\"Mikkel\")\n",
    "plt.bar(df_del.index,df_del.antalOtte, label=\"Otte\")\n",
    "plt.bar(df_del.index,df_del.antalSusanna, label=\"Susanna\")\n",
    "plt.bar(df_del.index,df_del.antalMette, label=\"Ane Mette\")\n",
    "plt.bar(df_del.index,df_del.antalInger, label=\"Inger\")\n",
    "plt.bar(df_del.index,df_del.antalAxel, label=\"Axel\")\n",
    "plt.bar(df_del.index,df_del.antalIde, label=\"Ide\")\n",
    "plt.bar(df_del.index,df_del.antalKongChr, label=\"Kong Christiern\")\n",
    "\n",
    "plt.ylabel(\"Antal gange nævnt\")\n",
    "plt.xlabel(\"Placering i narrativ\")\n",
    "\n",
    "plt.legend()\n",
    "plt.savefig(\"kf_dele_stolpe.png\", bbox_inches = \"tight\", dpi=200)\n",
    "plt.show()"
   ]
  }
 ],
 "metadata": {
  "kernelspec": {
   "display_name": "Python 3",
   "language": "python",
   "name": "python3"
  },
  "language_info": {
   "codemirror_mode": {
    "name": "ipython",
    "version": 3
   },
   "file_extension": ".py",
   "mimetype": "text/x-python",
   "name": "python",
   "nbconvert_exporter": "python",
   "pygments_lexer": "ipython3",
   "version": "3.8.8"
  }
 },
 "nbformat": 4,
 "nbformat_minor": 4
}
